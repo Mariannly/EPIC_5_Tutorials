{
 "cells": [
  {
   "cell_type": "markdown",
   "id": "d3c88b5f",
   "metadata": {},
   "source": [
    "# Cloud finding in the gas of the Milky Way\n",
    "\n",
    "The goal of this challeneg is to find high velocity clouds and schells (or bubbles) in the neutral hydrogen gas of the Milky Way.\n",
    "\n",
    "Main Challenge:\n",
    "- Find the bubble from the presentation in data cube: gass_bubble_full_disk.fits.\n",
    "- This bubble is extending from the disk of the Milky Way in the southern direction. There is also a second bubble extending from the same part of the disk in the Northern direction. Find the northern bubble.\n",
    "- Characterise the properties of the edge of the bubble:\n",
    "    - caluclate the size of the bubble in pixels and arcseconds.\n",
    "    - calculate the column denisty of the gas based on the integrated intensity of the identified structures.\n",
    "\n",
    "Calculating the columndenisty of the neutral hydrogen (HI) gas:\n",
    "$$N(HI) = 1.823 \\times 10^{18} cm^{−2}(K km s{^−1})^{−1} \\times  \\int_{\\Delta v} T_{B}(v)dv$$\n",
    "\n",
    "Data cubes: https://www.dropbox.com/scl/fo/uawo8vgo332v0fiixlpcl/AGuxyyVq---oawZg6msEPxM?rlkey=vudu24ugyoeo1j4vx3yqv9jpd&dl=0"
   ]
  },
  {
   "cell_type": "code",
   "execution_count": null,
   "id": "2a06471a",
   "metadata": {},
   "outputs": [],
   "source": []
  }
 ],
 "metadata": {
  "kernelspec": {
   "display_name": "Python 3 (ipykernel)",
   "language": "python",
   "name": "python3"
  },
  "language_info": {
   "codemirror_mode": {
    "name": "ipython",
    "version": 3
   },
   "file_extension": ".py",
   "mimetype": "text/x-python",
   "name": "python",
   "nbconvert_exporter": "python",
   "pygments_lexer": "ipython3",
   "version": "3.8.8"
  }
 },
 "nbformat": 4,
 "nbformat_minor": 5
}
