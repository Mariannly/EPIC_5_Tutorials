{
 "cells": [
  {
   "cell_type": "code",
   "execution_count": 1,
   "id": "a7c84c72",
   "metadata": {},
   "outputs": [],
   "source": [
    "import numpy as np\n",
    "import matplotlib.pyplot as plt\n",
    "from astropy.io import fits"
   ]
  },
  {
   "cell_type": "code",
   "execution_count": 2,
   "id": "57346165",
   "metadata": {},
   "outputs": [],
   "source": [
    "with fits.open('gass_Hydra.fits') as hdul:\n",
    "    data = hdul[0].data\n",
    "    header = hdul[0].header"
   ]
  },
  {
   "cell_type": "code",
   "execution_count": 4,
   "id": "f7bc68e1",
   "metadata": {},
   "outputs": [
    {
     "data": {
      "text/plain": [
       "(1201, 63, 63)"
      ]
     },
     "execution_count": 4,
     "metadata": {},
     "output_type": "execute_result"
    }
   ],
   "source": [
    "data.shape"
   ]
  },
  {
   "cell_type": "code",
   "execution_count": 7,
   "id": "a5f5f988",
   "metadata": {},
   "outputs": [
    {
     "data": {
      "text/plain": [
       "SIMPLE  =                    T / file does conform to FITS standard             \n",
       "BITPIX  =                  -32 / number of bits per data pixel                  \n",
       "NAXIS   =                    3 / number of data axes                            \n",
       "NAXIS1  =                   63 / length of data axis 1                          \n",
       "NAXIS2  =                   63 / length of data axis 2                          \n",
       "NAXIS3  =                 1201 / length of data axis 3                          \n",
       "COMMENT   FITS (Flexible Image Transport System) format is defined in 'Astronomy\n",
       "COMMENT   and Astrophysics', volume 376, page 359; bibcode: 2001A&A...376..359H \n",
       "CTYPE1  = 'RA---CAR'           / axis type                                      \n",
       "CRVAL1  =   1.539500000000E+02 / longitude                                      \n",
       "CRPIX1  =   3.200000000000E+01 / ref pixel                                      \n",
       "CDELT1  =  -9.008789062500E-02 / longitude increment                            \n",
       "CROTA1  =   0.000000000000E+00 / longitude rotation                             \n",
       "CUNIT1  = 'DEG     '           / unit type                                      \n",
       "CTYPE2  = 'DEC--CAR'           / axis type                                      \n",
       "CRVAL2  =   0.000000000000E+00 / latitude                                       \n",
       "CRPIX2  =   3.741770833333E+02 / ref pixel                                      \n",
       "CDELT2  =   8.000000000000E-02 / latitude increment                             \n",
       "CROTA2  =   0.000000000000E+00 / latitude rotation                              \n",
       "CUNIT2  = 'DEG     '           / unit type                                      \n",
       "CTYPE3  = 'VELO-LSRK'          / axis type                                      \n",
       "CRVAL3  =  -4.947000122070E+05 / velocity                                       \n",
       "CRPIX3  =                    1 / ref pixel                                      \n",
       "CDELT3  =   8.245000243187E+02 / velocity increment                             \n",
       "CROTA3  =   0.000000000000E+00 / velocity rotation                              \n",
       "CUNIT3  = 'M/S     '           / unit type                                      \n",
       "PROJ    = 'FLAT    '           / type of projection                             \n",
       "SYSTEM  = 'EQUATORIAL'         / coordinate system                              \n",
       "EQUINOX =                 2000 / epoch of map                                   \n",
       "BUNIT   = 'K       '           / map units                                      \n",
       "OBSTYP  = 'LINE    '           / type of observation                            \n",
       "FREQ0   =   1.420405752000E+09 / rest frequency in Hz                           \n",
       "RESTFREQ=   1.420405752000E+09 / rest frequency in Hz                           \n",
       "BMMIN   =   2.399999936422E-01 / beam minor axis                                \n",
       "BMMAX   =   2.399999936422E-01 / beam major axis                                \n",
       "RESOL   =   2.649166613817E-01 / resolution                                     \n",
       "DATAMIN =  -2.844367325306E-01 / map minimum                                    \n",
       "DATAMAX =   2.737708282471E+01 / map maximum                                    \n",
       "OBJECT  = 'GASS_III Galactic HI Survey'                                         \n",
       "TELESCOP= 'ATNF Parkes 64-m'   / telescope                                      \n",
       "INSTRUME= 'Multibeam RX'       / instrument                                     \n",
       "COMMENT Cube calculated by                                                      \n",
       "COMMENT Helga Denes                                                             \n",
       "COMMENT helgadenes@gmail.com                                                    \n",
       "COMMENT SETUP  Type: clean 2if Kernel: 0.12500 Gauss                            \n",
       "COMMENT SETUP  Vel :  lsr      -495.00    495.00      0.80    0                 \n",
       "COMMENT 2019-08-08T10:55:16                                                     \n",
       "ORIGIN  = 'http://www.astro.uni-bonn.de/hisurvey/gass' / origin of fits cube    \n",
       "COMMENT    AIfA Bonn WEB server for HI data                                     \n",
       "COMMENT    ================================                                     \n",
       "OBSERVER= 'Kalberla & Haud'    / authors third data release                     \n",
       "DATE    = '2015-01-15'         / date for data release GASS III                 \n",
       "COMMENT Data matched to the Dwingeloo and Effelsberg T_B scale                  \n",
       "COMMENT by applying a factor of 0.96 to the GASS II T_B scale                   \n",
       "COMMENT for reference see Sect. 4.2 of the GASS III paper                       \n",
       "REFERENC= 'P.M.W. Kalberla and U. Haud  (2015), A&A 578, A78' / GASS paper 3    \n",
       "COMMENT   see also                                                              \n",
       "COMMENT   Kalberla et al. (2010), A&A 512, A14 - GASS paper 2                   \n",
       "COMMENT    Please cite also the first data release                              \n",
       "COMMENT    McClure-Griffiths et al. (2009) ApJS, 181, 398                       \n",
       "HISTORY complex                                                                 \n",
       "                                                                                \n",
       "                                                                                "
      ]
     },
     "execution_count": 7,
     "metadata": {},
     "output_type": "execute_result"
    }
   ],
   "source": [
    "header"
   ]
  },
  {
   "cell_type": "code",
   "execution_count": 8,
   "id": "e2a41d49",
   "metadata": {},
   "outputs": [
    {
     "data": {
      "text/plain": [
       "<matplotlib.image.AxesImage at 0x7fd105c89f40>"
      ]
     },
     "execution_count": 8,
     "metadata": {},
     "output_type": "execute_result"
    },
    {
     "data": {
      "image/png": "[encoded data removed]",
      "text/plain": [
       "<Figure size 640x480 with 1 Axes>"
      ]
     },
     "metadata": {},
     "output_type": "display_data"
    }
   ],
   "source": [
    "plt.imshow(data[100, :, :], cmap='gray')"
   ]
  },
  {
   "cell_type": "code",
   "execution_count": null,
   "id": "edd0a010",
   "metadata": {},
   "outputs": [],
   "source": []
  }
 ],
 "metadata": {
  "kernelspec": {
   "display_name": "Python 3",
   "language": "python",
   "name": "python3"
  },
  "language_info": {
   "codemirror_mode": {
    "name": "ipython",
    "version": 3
   },
   "file_extension": ".py",
   "mimetype": "text/x-python",
   "name": "python",
   "nbconvert_exporter": "python",
   "pygments_lexer": "ipython3",
   "version": "3.12.11"
  }
 },
 "nbformat": 4,
 "nbformat_minor": 5
}
