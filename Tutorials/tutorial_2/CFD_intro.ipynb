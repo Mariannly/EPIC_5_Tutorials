{
  "cells": [
    {
      "cell_type": "markdown",
      "metadata": {
        "id": "view-in-github",
        "colab_type": "text"
      },
      "source": [
        "<a href=\"https://colab.research.google.com/github/Mariannly/EPIC_5_Tutorials/blob/main/Tutorials/tutorial_2/CFD_intro.ipynb\" target=\"_parent\"><img src=\"https://colab.research.google.com/assets/colab-badge.svg\" alt=\"Open In Colab\"/></a>"
      ]
    },
    {
      "cell_type": "markdown",
      "metadata": {
        "id": "FM6Yc9lGFOLq"
      },
      "source": [
        "Tutorial 2: Catching a river in your laptop - methods for numerically solving differential equations\n",
        "=================================="
      ]
    },
    {
      "cell_type": "markdown",
      "metadata": {
        "id": "_gscU24QFOLr"
      },
      "source": [
        "## About me\n",
        "* Italian, 35 years old.\n",
        "* As a kid I wanted to be a motorcycles pilot. Then an astronomer. Then a theoretical physicist. I studied Theoretical physics, but a horrible professor made me hate the subject, so I went back to astrophysics.\n",
        "* I'm a numerical astrophysicist = I run simulations of the formation of galaxies and structures in the Universe. Then, I use these virtual universes to try to understand the history of the cosmos."
      ]
    },
    {
      "cell_type": "markdown",
      "metadata": {
        "id": "KXug2fy-FOLs"
      },
      "source": [
        "# What is CFD?\n",
        "Computational fluid dynamics (CFD) is a big branch of physics and engineering that uses computer simulations to understand the complex behaviors of fluids, especially in systems that are impossible to study with traditional methods. This can cover a **huge** range of systems, from F1 cars and airplanes to a fridge; from a river to galaxies; and sometimes even light.\n",
        "\n",
        "## What is a fluid?\n",
        "In physics, we have a precise definition of what a fluid is. But for today, the only thing that matters is that a fluid:\n",
        "* is described by a set of values at each point (for example, the water temperature, density and velocity in a river); mathematically, we call this a field.\n",
        "* changing the fluid properties in one point affects the nearby one (for example, if you jump into the water you will create a splash).\n",
        "\n",
        "These conditions are true for many more _stuff_ than fluids only, so whet you will learn today can be used for many more physical systems.\n",
        "\n",
        "Now maybe you see why CFD has such broad applications! For example, if you want to design a fridge, you need to make sure that the liquid coolant reaches each corner of the fridge as efficiently as possible. And if you want to understand how stars function, you need to understand how the hot gas flows through their interiors. Both can be soled with the same CFD methods!\n",
        "\n",
        "CFD is used in many fields, including:\n",
        "- Engineering\n",
        "- Weather forecasting\n",
        "- Oceanography\n",
        "- Astrophysics\n"
      ]
    },
    {
      "cell_type": "markdown",
      "metadata": {
        "ExecuteTime": {
          "end_time": "2022-04-21T13:29:00.982374Z",
          "start_time": "2022-04-21T13:29:00.978086Z"
        },
        "id": "7OkydaluFOLt"
      },
      "source": [
        "# Discretization\n",
        "Most physical systems are described by **partial differential equations (PDEs)**, which are continuous in space and time. Therefore, to describe such system in a computer, we need an **infinite** amount of numbers, one (set of) numbers for each position in the fluid. No matter how large your computer is, it is impossible to fit an infinite amount of infinite numbers in it!\n",
        "\n",
        "We deal with this through **discretization** of the system (for example our fluid) in _both space and time_. By this, I mean that we split a continuous field into a number of small elements, that we assume are described by a single set of values. For a one-dimensional system, the spatial discretization looks like this:\n",
        "\n",
        "![discretization](https://media.geeksforgeeks.org/wp-content/uploads/20190508222632/0f67a451-4895-4a17-9e5f-3bd80f7d2545-300x200.png)\n",
        "\n",
        "Each one of these _resolution elements_ represents the smallest length $\\Delta x$ (or area, or volume) that has a meaning in the discretized system. Therefore, we can describe a (1D) system with a set of points\n",
        "\n",
        "$$x_0, \\,\\, x_1, \\,\\, x_2, \\,\\, x_3, \\,\\, x_4, ...$$\n",
        "\n",
        "separated by $\\Delta x$, so that $x_n = x_0 + n\\Delta x$.\n",
        "\n",
        "\n",
        "> You can think of this as the resolution of an image/screen/etc. The more pixels (resolution elements) you have, the closer it is to the real thing, but it will never have all the details\n",
        ">\n",
        "> <img src=\"https://github.com/EGaraldi/EPIC_5/blob/main/Tutorials/tutorial_2/pxArt0.png?raw=1\" width=\"50%\"/>\n",
        ">\n",
        "> <img src=\"https://github.com/EGaraldi/EPIC_5/blob/main/Tutorials/tutorial_2/pxArt1.png?raw=1\" width=\"50%\"/>\n",
        ">\n",
        "> <img src=\"https://github.com/EGaraldi/EPIC_5/blob/main/Tutorials/tutorial_2/pxArt2.png?raw=1\" width=\"50%\"/>\n",
        ">\n",
        "> <img src=\"https://github.com/EGaraldi/EPIC_5/blob/main/Tutorials/tutorial_2/pxArt3.png?raw=1\" width=\"50%\"/>\n",
        "\n",
        "We treat time in the same way. This means that we treat a continuous evolution in time as a sequence of discrete times\n",
        "\n",
        "$$t_0, \\,\\, t_1, \\,\\, t_2, \\,\\, t_3, \\,\\, t_4, ...$$\n",
        "\n",
        "separated by an interval $\\Delta t$ so that $t_n = t_0 + n\\Delta t$. This interval $\\Delta t$ is called _timestep_.\n",
        "\n",
        "To make the notation easier, if a system is described by a state function $u(x, t)$ (for example, the water temperature, ...), we will write the state at timestep $t_n = t_0 + n \\Delta t$ at position $x_i = x_0 + i \\Delta x$ as\n",
        "\n",
        "$$u(x_i, t_n)  = u(x_0 + i \\Delta x, t_0 + n \\Delta t) \\equiv u_i^n$$\n",
        "\n",
        "\n",
        "## Finite differences\n",
        "In a discretized system, we need to find a suitable definition for continuous operators. The only one we will need today is the derivative $\\partial f/\\partial x$.\n",
        "\n",
        "Mathematically, the derivative is defined (in 1 dimension) as:\n",
        "\n",
        "$$\n",
        "\\frac{\\partial f}{\\partial x} = \\lim_{\\epsilon \\rightarrow 0} \\frac{f(x+\\epsilon) - f(x)}{\\epsilon}\n",
        "$$\n",
        "\n",
        "In a discretized system, however, we can not take the limit $\\epsilon \\rightarrow 0$, because the smallest meaningful length is the resolution element $\\Delta x$. So, we replace this limit with a _finite difference_. For example:\n",
        "\n",
        "$$\n",
        "\\frac{\\partial f}{\\partial x} \\approx \\frac{f(x+\\Delta x) - f(x)}{\\Delta x} = \\frac{f_{i+1} - f_i}{\\Delta x}\n",
        "$$\n",
        "\n",
        "This is called _forward derivative_, because the difference is computed between the current value ($f_i$) and the next one ($f_{i+1}$).\n",
        "\n",
        "In the same way, we can define a _backward derivative_, as:\n",
        "\n",
        "$$\n",
        "\\frac{\\partial f}{\\partial x} \\approx \\frac{f(x) - f(x-\\Delta x)}{\\Delta x} = \\frac{f_i - f_{i-1}}{\\Delta x}\n",
        "$$\n",
        "\n",
        "Both of these are correct, but the fact that they are not symmetric in x creates some numerical issues sometimes (more on this later). Therefore, it is usually better to use the _central derivative_:\n",
        "\n",
        "$$\n",
        "\\frac{\\partial f}{\\partial x} \\approx \\frac{f(x+\\Delta x) - f(x-\\Delta x)}{2 \\Delta x} = \\frac{f_{i+1} - f_{i-1}}{2\\Delta x}\n",
        "$$\n",
        "\n",
        "\n",
        "When we encounter a time derivative, we can proceed like we did before for the spatial dimension $x$. However, in this case we do **not know** the future state $u(x, t_{n+1})$, because that is what we want to predict with our simulation!\n"
      ]
    },
    {
      "cell_type": "code",
      "execution_count": 1,
      "metadata": {
        "id": "GQM_QekOFOLu"
      },
      "outputs": [],
      "source": [
        "import numpy as np\n",
        "import matplotlib.pyplot as plt\n",
        "from tqdm.notebook import trange"
      ]
    },
    {
      "cell_type": "code",
      "execution_count": 2,
      "metadata": {
        "id": "6vI4XZjoFOLu"
      },
      "outputs": [],
      "source": [
        "def forward_derivative(f, dx):\n",
        "    deriv = np.full_like(f, None)\n",
        "    for i in range(len(f)-1):\n",
        "        deriv[i] = ( f[i+1] - f[i] ) / dx\n",
        "    # the following way is more efficient because uses the numpy internal vectorization (but less transparent)\n",
        "    # deriv[:-1] = (f[1:] - f[:-1]) / dx\n",
        "    return deriv"
      ]
    },
    {
      "cell_type": "code",
      "execution_count": 3,
      "metadata": {
        "colab": {
          "base_uri": "https://localhost:8080/",
          "height": 467
        },
        "id": "jW2K7cplFOLu",
        "outputId": "084fecbf-345d-484f-a769-baa330ba2f80"
      },
      "outputs": [
        {
          "output_type": "execute_result",
          "data": {
            "text/plain": [
              "<matplotlib.legend.Legend at 0x7891343d9290>"
            ]
          },
          "metadata": {},
          "execution_count": 3
        },
        {
          "output_type": "display_data",
          "data": {
            "text/plain": [
              "<Figure size 640x480 with 1 Axes>"
            ],
            "image/png": "[encoded data removed]"
          },
          "metadata": {}
        }
      ],
      "source": [
        "L = 1.0  # Length of the domain\n",
        "N = 100  # Number of spatial points\n",
        "dx = L / (N - 1)  # Spatial step size\n",
        "x = np.linspace(0, L, N)\n",
        "f = x**3 +2*x**2 - x\n",
        "df_analytical = 3*x**2 + 4*x - 1\n",
        "df_numerical = forward_derivative(f, dx)\n",
        "\n",
        "plt.plot(x, df_analytical, label=\"analytical\", linestyle='-' , lw=3)\n",
        "plt.plot(x, df_numerical, label=\"numerical\"  , linestyle='--', lw=3)\n",
        "\n",
        "plt.xlabel('x')\n",
        "plt.ylabel('Function value')\n",
        "\n",
        "plt.legend()\n"
      ]
    },
    {
      "cell_type": "code",
      "execution_count": 12,
      "metadata": {
        "id": "jey9HYd0FOLv"
      },
      "outputs": [],
      "source": [
        "def backward_derivative(f, dx):\n",
        "    #exercise\n",
        "    deriv = np.full_like(f, None)\n",
        "    for i in range(1, len(f)):\n",
        "        deriv[i] = ( f[i] - f[i-1] ) / dx\n",
        "\n",
        "    return deriv"
      ]
    },
    {
      "cell_type": "code",
      "execution_count": 13,
      "metadata": {
        "id": "f90LytA1FOLv"
      },
      "outputs": [],
      "source": [
        "def central_derivative(f, dx):\n",
        "    #exercise\n",
        "    deriv = np.full_like(f, None)\n",
        "    for i in range(1, len(f)-1):\n",
        "        deriv[i] = ( f[i+1] - f[i-1] ) / (2*dx)\n",
        "\n",
        "    return deriv"
      ]
    },
    {
      "cell_type": "code",
      "execution_count": 14,
      "metadata": {
        "colab": {
          "base_uri": "https://localhost:8080/",
          "height": 467
        },
        "id": "X-1Rf2SlFOLv",
        "outputId": "22823a3e-40b8-45f0-ddcf-fc2152743f17"
      },
      "outputs": [
        {
          "output_type": "execute_result",
          "data": {
            "text/plain": [
              "<matplotlib.legend.Legend at 0x78911d24ae90>"
            ]
          },
          "metadata": {},
          "execution_count": 14
        },
        {
          "output_type": "display_data",
          "data": {
            "text/plain": [
              "<Figure size 640x480 with 1 Axes>"
            ],
            "image/png": "[encoded data removed]"
          },
          "metadata": {}
        }
      ],
      "source": [
        "L = 1.0  # Length of the domain\n",
        "N = 100  # Number of spatial points\n",
        "dx = L / (N - 1)  # Spatial step size\n",
        "x = np.linspace(0, L, N)\n",
        "f = x**3 +2*x**2 - x\n",
        "df_analytical = 3*x**2 + 4*x - 1\n",
        "\n",
        "plt.plot(x, df_analytical, label=\"analytical\", linestyle='-' , lw=3)\n",
        "plt.plot(x, central_derivative(f, dx), label=\"forward derivative\", linestyle='--', lw=3)\n",
        "plt.plot(x, backward_derivative(f, dx), label=\"backward derivative\", linestyle=':', lw=3)\n",
        "plt.plot(x, central_derivative(f, dx), label=\"central derivative\", linestyle='-.', lw=3)\n",
        "\n",
        "plt.xlabel('x')\n",
        "plt.ylabel('Function value')\n",
        "\n",
        "plt.legend()\n"
      ]
    },
    {
      "cell_type": "markdown",
      "metadata": {
        "id": "2CU9rz77FOLw"
      },
      "source": [
        "### Second derivative\n",
        "\n",
        "Often in physics we find second derivatives. We can simply treat them as the derivative of a derivative and apply twice the forward/backward/central derivative. For example:\n",
        "\n",
        "``` second_derivative = central_derivative(central_derivative(f, dx), dx) ```\n",
        "\n",
        "However, we can combine a forward and a backward derivative, we end up with:\n",
        "\n",
        "$$\n",
        "\\frac{\\partial^2 f}{\\partial x^2} \\approx \\frac{f(x+\\Delta x)+(x-\\Delta x)-2(x)}{(\\Delta x)^2}\n",
        "$$\n",
        "\n",
        "This expression treats at the same way the forward and backward grid point (i.e. it is symmetric with respect to $x$). Since it does not artificially break the symmetry of the system, it reduces the overall discretization error. So we can define:"
      ]
    },
    {
      "cell_type": "code",
      "execution_count": 15,
      "metadata": {
        "id": "t-xb4y9uFOLw"
      },
      "outputs": [],
      "source": [
        "def second_derivative(f, dx):\n",
        "  #as exercise\n",
        "  deriv = np.full_like(f, None)\n",
        "  for i in range(1, len(f)-1):\n",
        "    deriv[i]= (f[i+1]+f[i-1]-2*f[i])/dx**2\n",
        "\n",
        "  return deriv\n",
        ""
      ]
    },
    {
      "cell_type": "code",
      "execution_count": 16,
      "metadata": {
        "colab": {
          "base_uri": "https://localhost:8080/",
          "height": 467
        },
        "id": "iqbhQez0FOLw",
        "outputId": "448d8557-7554-4a77-a871-6f09f43d4c26"
      },
      "outputs": [
        {
          "output_type": "execute_result",
          "data": {
            "text/plain": [
              "<matplotlib.legend.Legend at 0x78911d532e90>"
            ]
          },
          "metadata": {},
          "execution_count": 16
        },
        {
          "output_type": "display_data",
          "data": {
            "text/plain": [
              "<Figure size 640x480 with 1 Axes>"
            ],
            "image/png": "[encoded data removed]"
          },
          "metadata": {}
        }
      ],
      "source": [
        "L = 1.0  # Length of the domain\n",
        "N = 100  # Number of spatial points\n",
        "dx = L / (N - 1)  # Spatial step size\n",
        "x = np.linspace(0, L, N)\n",
        "# f = np.concatenate([np.zeros(N//2), np.ones(N//2)])  # Step function\n",
        "# f = np.exp(-100 * (x - 0.5)**2)  # Gaussian\n",
        "f = x**3 +2*x**2 - x\n",
        "df2_analytical = 6*x + 4\n",
        "\n",
        "plt.plot(x, df2_analytical, label='analytical', lw=3)\n",
        "plt.plot(x, second_derivative(f, dx), label=\"numerical\", linestyle='--', lw=3)\n",
        "\n",
        "plt.xlabel('x')\n",
        "plt.ylabel('Function value')\n",
        "\n",
        "plt.legend()\n"
      ]
    },
    {
      "cell_type": "markdown",
      "metadata": {
        "id": "ZbnnN4vTFOLw"
      },
      "source": [
        "# The basic simulation step\n",
        "\n",
        "With this, we can finally build a _simulation step_. Suppose that a physical systems can be described by equations in the form\n",
        "\n",
        "$$\\frac{\\partial u(x, t)}{\\partial t} = f(x,t)$$\n",
        "\n",
        "where $f(x,t)$ can contain _spatial_ derivatives but no time derivative.\n",
        "\n",
        "Using the finite differences above, this becomes:\n",
        "\n",
        "$$\\frac{u(x, t_{n+1}) - u(x, t_{n})}{\\Delta t} = f(x,t_n)$$\n",
        "\n",
        "$$\\rightarrow u(x, t_{n+1}) = u(x, t_{n}) + f(x,t_n) \\Delta t $$\n",
        "\n",
        "This is a recipe to use the current state of the system $u(x, t_{n})$ to predict the **future** state of the system $u(x, t_{n+1})$. By repeating this procedure until we reach our desired final time, we can simulate the system. This is the basic concept behind numerical simulations."
      ]
    },
    {
      "cell_type": "markdown",
      "metadata": {
        "id": "hZ0fqLQcFOLw"
      },
      "source": [
        "## Initial and boundary conditions\n",
        "\n",
        "The recipe above tells us how to _evolve_ a system, but we need a starting configuration. This is called **initial condition** of the simulation and depends on what you are trying to simulate.\n",
        "\n",
        "We can also have **boundary conditions**. These are a set of rules that determine what happens at the edge of our simulation and depend on what we are simulating. For example, if we are simulating a wave in the ocean, we probably want the wave to travel past the edge of the simulation because in the ocean there is nothing stopping a wave from traveling. But if we are simulating the same wave in a pool, maybe we want the wave to reflect on the pool edge."
      ]
    },
    {
      "cell_type": "markdown",
      "metadata": {
        "id": "PK57zE5NFOLw"
      },
      "source": [
        "# Case 1: the advection equation\n",
        "\n",
        "The advection equation simply describes the rigid transport of a wave. In 1 dimension, this is:\n",
        "\n",
        "$$ \\frac{\\partial u}{\\partial t} + c \\frac{\\partial u}{\\partial x} = 0 $$\n",
        "\n",
        "where $c$ is the propagation speed and the state $u$ describes the wave.\n",
        "\n",
        "Discretizing space and time, and using finite differences to approximate derivative, we get\n",
        "\n",
        "$$ \\frac{u(x_i, t_{n+1}) - u(x_i, t_{n})}{\\Delta t} + c \\frac{u(x_{i+1}, t_n) - u(x_{i-1}, t_n)}{2 \\Delta x} = 0 $$\n",
        "\n",
        "$$\\rightarrow u(x_i, t_{n+1}) = u(x_i, t_{n}) - (c \\Delta t) \\frac{u(x_{i+1}, t_n) - u(x_{i-1}, t_n)}{2 \\Delta x}"
      ]
    },
    {
      "cell_type": "code",
      "execution_count": 17,
      "metadata": {
        "id": "TQuIyd2p8L03"
      },
      "outputs": [],
      "source": [
        "# Define the system\n",
        "L = 20.0            # spatial length\n",
        "T = 50             # total simulation length\n",
        "c = 0.25            # wave speed\n",
        "\n",
        "#discretization\n",
        "nx = 500           # number of spatial points\n",
        "nt = 7000           # number of time steps\n",
        "\n",
        "# compute spatial and time steps\n",
        "dx = L / (nx - 1)  # spatial step\n",
        "dt = T / (nt - 1)  # time step"
      ]
    },
    {
      "cell_type": "code",
      "execution_count": 18,
      "metadata": {
        "id": "qs2L_eAfFOLw"
      },
      "outputs": [],
      "source": [
        "# Create spatial grid\n",
        "x = np.linspace(0, L, nx, endpoint=True)\n",
        "\n",
        "# Set initial conditions\n",
        "u = np.exp(-1 * (x - 5.5)**2)  # Gaussian pulse"
      ]
    },
    {
      "cell_type": "code",
      "execution_count": null,
      "metadata": {
        "id": "np3DHeOT8L03"
      },
      "outputs": [],
      "source": [
        "#function toevolve the system\n",
        "def evolve_one_step(u):\n",
        "    #as exercise\n",
        "\n",
        "\n",
        "    #boundary conditions (at the edge of the domain):\n",
        "    u_new[0] = u_new[1]\n",
        "    u_new[-1] = u_new[-2]\n",
        "\n",
        "    return u_new"
      ]
    },
    {
      "cell_type": "code",
      "execution_count": null,
      "metadata": {
        "id": "4xNi4VVn8L03"
      },
      "outputs": [],
      "source": [
        "# prepare plot\n",
        "plt.figure(figsize=(8, 4))\n",
        "cmap = plt.get_cmap(\"viridis\")\n",
        "plt.plot(x, u, color='k', lw=4)\n",
        "\n",
        "# Evolve the system\n",
        "for n in trange(nt):\n",
        "    u_new = evolve_one_step(u)\n",
        "\n",
        "    #now replace old state with new state\n",
        "    u = u_new\n",
        "\n",
        "    #plot every now and then\n",
        "    if n % 500 == 0:\n",
        "        plt.plot(x, u, color=cmap(n/nt))\n",
        "\n",
        "plt.title(\"1D Linear Wave Propagation\")\n",
        "plt.xlabel(\"x\")\n",
        "plt.ylabel(\"u(x, t)\")\n",
        "#plt.legend()\n",
        "plt.grid(True)\n",
        "plt.show()"
      ]
    },
    {
      "cell_type": "markdown",
      "metadata": {
        "id": "bJ_hMHiPFOLx"
      },
      "source": [
        "## Exercise: forward, backward and central derivative\n",
        "Try to replace the central derivative above with forward and backward derivatives. Then, try to reduce the integration time, dt or dx."
      ]
    },
    {
      "cell_type": "markdown",
      "metadata": {
        "id": "eqk0ilRUFOLx"
      },
      "source": [
        "# Case 2: the wave equation\n",
        "\n",
        "The second example is the propagation of a wave in 1 (spatial) dimension. Mathematically, we can describe the 1D wave propagation as:\n",
        "\n",
        "$$ \\frac{\\partial^2 u}{\\partial t^2} = c^2 \\frac{\\partial^2 u}{\\partial x^2}$$\n",
        "\n",
        "where $c$ is the wave speed. You can thin of this as the deformation of a guitar string. In this case, the state of the system $u(x,t)$ is the offset along the $y$ direction, i.e. $u(x,t) = y(x,t)$.\n",
        "\n",
        "Discretizing space and time, and using finite differences to approximate derivative, we get\n",
        "\n",
        "$$\n",
        "\\frac{u_{i}^{n+1} + u_{i}^{n-1} - 2 u_{i}^n}{\\Delta t^2} = c^2 \\frac{u_{i+1}^n + u_{i-1}^n - 2 u_{i}^n}{(\\Delta x)^2}\n",
        "$$\n",
        "\n",
        "We can isolate the (unknown) future state $u_{i}^{n+1}$ to get\n",
        "\n",
        "$$\n",
        "u_{i}^{n+1} = 2 \\left[ 1 - \\left( \\frac{c \\Delta t}{\\Delta x} \\right)^2 \\right] u_{i}^{n} + \\left( \\frac{c \\Delta t}{\\Delta x} \\right)^2 \\left( u_{i+1}^{n} + u_{i-1}^{n} \\right) - u_{i}^{n-1}\n",
        "$$\n",
        "\n",
        "For simplicity, we can define\n",
        "\n",
        "$$\n",
        "r \\equiv \\frac{c \\Delta t}{\\Delta x}\n",
        "$$\n",
        "\n",
        "and get the update rule\n",
        "\n",
        "$$u_{i}^{n+1} = 2 \\left[ 1 - r^2 \\right] u_{i}^{n} + r^2 \\left( u_{i+1}^{n} + u_{i-1}^{n} \\right) - u_{i}^{n-1}$$\n",
        "\n",
        "## Initial and boundary conditions\n",
        "Since we are dealing with a second-order differential equation, we require two sets of initial conditions (for each discretization element). For instance, we may know the deformation of the string (elements) at two consecutive timesteps, or we may know the initial position and velocity of the string (elements).\n",
        "\n",
        "We also need some boundary conditions. Since we can not simulate infinite systems, we have to specify what happens at the boundaries, i.e. the first and last resolution element. In the case of a string, this means deciding what happens at its extremities. One common assumption is that the string is held fix in position, so $u(x=0, t) = u(x=L, t) = 0$ at any time $t$. We can choose, however, any type of boundary condition that makes sense for our system.\n",
        "\n",
        "An important class of boundary conditions are the periodic boundary condition (PBC). In our example, this corresponds to joining together the two extremes of the string, so we have a string loop. In this case, we have simply $ y_i^n = y_0^n $. This is extremely important in some applications, because it is a simple way to approximate an infinite system in the computer.\n"
      ]
    },
    {
      "cell_type": "markdown",
      "metadata": {
        "id": "9T9R8OxTFOLx"
      },
      "source": [
        "## Implementation\n",
        "We can now implement an algorithm to compute the value of $u_i^{n+1}$ given the values in the two previous timesteps $u_i^n$ and $u_i^{n-1}$. We will assume to have fixed boundary conditions."
      ]
    },
    {
      "cell_type": "code",
      "execution_count": null,
      "metadata": {
        "id": "vczGn95HFOLx"
      },
      "outputs": [],
      "source": [
        "# Define the system\n",
        "L = 20.0            # spatial length\n",
        "T = 50              # total simulation length\n",
        "c = 0.2               # wave speed\n",
        "\n",
        "#discretization\n",
        "nx = 1000            # number of spatial points\n",
        "nt = 1000             # number of time steps\n",
        "\n",
        "# compute spatial and time steps\n",
        "dx = L / (nx - 1)  # spatial step\n",
        "dt = T / (nt - 1)  # time step\n",
        "r = c * dt / dx\n",
        "\n",
        "#create spatial grids\n",
        "old_step     = np.zeros(nx)\n",
        "current_step = np.zeros(nx)\n",
        "new_step     = np.zeros(nx)"
      ]
    },
    {
      "cell_type": "code",
      "execution_count": null,
      "metadata": {
        "id": "E3QN6AjfFOLx"
      },
      "outputs": [],
      "source": [
        "def advance_one_step():\n",
        "    #exercise\n"
      ]
    },
    {
      "cell_type": "markdown",
      "metadata": {
        "id": "ANGQQD4WFOLx"
      },
      "source": [
        "We now have to choose some initial conditions. To keep things simple (for now!), we will assume that the initial displacement of the string follows a Gaussian curve centered in some place along the string (in this case at $x_c = 30$)."
      ]
    },
    {
      "cell_type": "code",
      "execution_count": null,
      "metadata": {
        "id": "azU73lUEFOLx"
      },
      "outputs": [],
      "source": [
        "def make_initial_conditions(center, amplitude, sigma):\n",
        "    #exercise"
      ]
    },
    {
      "cell_type": "code",
      "execution_count": null,
      "metadata": {
        "id": "h7uHOVelFOLx"
      },
      "outputs": [],
      "source": [
        "old_step     = make_initial_conditions(5, 1, 1)\n",
        "current_step = make_initial_conditions(5, 1, 1)"
      ]
    },
    {
      "cell_type": "code",
      "execution_count": null,
      "metadata": {
        "id": "Nml1oW4eFOLx"
      },
      "outputs": [],
      "source": [
        "fig, ax = plt.subplots(1,1, figsize=(10,7))\n",
        "\n",
        "ax.plot(current_step, 'k--', lw=4)\n",
        "\n",
        "for iteration_number in trange(nt):\n",
        "    print(f\"iteration {iteration_number}\", end='\\r')\n",
        "    advance_one_step()\n",
        "\n",
        "    if iteration_number%50==0:\n",
        "        ax.plot(current_step, color=plt.cm.viridis(iteration_number/nt))\n",
        "\n",
        "    #now update step variables\n",
        "    old_step = current_step.copy()\n",
        "    current_step = new_step.copy()\n",
        "\n",
        "plt.show()"
      ]
    },
    {
      "cell_type": "markdown",
      "metadata": {
        "id": "y-6n0PBfFOLy"
      },
      "source": [
        "We can see that the initial Gaussian curve immediately split into two waves, traveling in opposite direction, with half of the original amplitude. This is due to the assumption `old_step = current_step.copy()`, which means the wave has zero velocity before the start of the simulation. Therefore, the energy stored in the system (for example, due to the tension of a deformated string) is equally split in the two directions to conserve the total momentum (which is zero since the initial velocity is zero). This is not at all absurd. In fact, this is what happens when we pluck a guitar string. You can also see that when one of these waves (the left one) reaches the end of the string it is reflected back, but its ampliude is inverted! This is a well-known phenomenon in wave theory."
      ]
    },
    {
      "cell_type": "markdown",
      "metadata": {
        "id": "5I9C7AyvFOLy"
      },
      "source": [
        "### What about the traveling wave?\n",
        "\n",
        "However, we started this discussion saying that every function $f(x \\pm ct)$ satisfy the wave equation and represent a deformation traveling in one direction. To see that, we have to drop the assumption of zero initial velocity (which conflicts with the functional form assumed here), and instead realise that in a time step of the simulation, the wave travels by $\\mathrm{d} x = c \\Delta t$ (notice how $\\mathrm{d} x$ is **not** the same as $\\Delta x$). By remembering the definition of the parameter $r$ we can write $\\mathrm{d} x = c \\Delta t = r \\Delta x$. In our example, we have (somewhat implicitly) assumed that $\\Delta x = 1$ and chosen $r=1$, therefore $\\mathrm{d} x = 1$. This means that in the timestep before the beginning of the simulation, the Gaussian deformation was centered at $x_c - \\mathrm{d} x = x_c - 1$. We can then set up these new initial conditions and perform the simulation again."
      ]
    },
    {
      "cell_type": "code",
      "execution_count": null,
      "metadata": {
        "id": "jynVgwCnFOLy"
      },
      "outputs": [],
      "source": [
        "current_step = make_initial_conditions(5     , 1, 1)\n",
        "# For a traveling wave, in the step before the wave was at the current position minus c*dt.\n",
        "old_step     = make_initial_conditions(5-c*dt, 1, 1)"
      ]
    },
    {
      "cell_type": "code",
      "execution_count": null,
      "metadata": {
        "id": "cVTcy4HbFOLz"
      },
      "outputs": [],
      "source": [
        "fig, ax = plt.subplots(1,1, figsize=(10,7))\n",
        "\n",
        "ax.plot(current_step, 'k--', lw=4)\n",
        "\n",
        "for iteration_number in trange(nt):\n",
        "    print(f\"iteration {iteration_number}\", end='\\r')\n",
        "    advance_one_step()\n",
        "\n",
        "    if iteration_number%50==0:\n",
        "        ax.plot(current_step, color=plt.cm.viridis(iteration_number/nt))\n",
        "\n",
        "    #now update step variables\n",
        "    old_step = current_step.copy()\n",
        "    current_step = new_step.copy()\n",
        "\n",
        "plt.show()"
      ]
    },
    {
      "cell_type": "markdown",
      "metadata": {
        "id": "7I3EHUZPFOLz"
      },
      "source": [
        "## Exercise: PBC\n",
        "Modify the code above to include periodic boundary conditions"
      ]
    },
    {
      "cell_type": "markdown",
      "metadata": {
        "id": "8vWVsAGa8L05"
      },
      "source": [
        "## Exercise: resolution effects\n",
        "Reduce more and more the width of the Gaussian in the initial conditions (the `sigma` parameter) and see what happens when it gets close to `dx`.\n",
        "* hint: you can specify `sigma` as a multiple of `dx` and reduce the multiplication factor progressively"
      ]
    },
    {
      "cell_type": "markdown",
      "metadata": {
        "id": "_GL3ZDTMFOLz"
      },
      "source": [
        "# The Courant-Friedrich-Levy condition\n",
        "Until now, we have not paid particular attention (or attention at all!) at the values chosen for some quantities of the system, like the spatial and time discretization, the string length, etc. It is time to fix this by discussing the role of the parameter $r$, defined as\n",
        "\n",
        "$$\n",
        "r \\equiv \\frac{c \\Delta t}{\\Delta x}\n",
        "$$\n",
        "\n",
        "The value of $r$ is the ratio between the distance traveled by a signal of speed $c$ in the time $\\Delta t$ and the spatial resolution $\\Delta x$ of our discretization. What does this mean?\n",
        "\n",
        "Imagine that $c \\Delta t > \\Delta x$ (i.e. $r>1$). In this case, within a single time step $\\Delta t$, the information carried by the wave (for example the distortion of the string) crosses an entire resolution element. But our algorithm can only communicate information between _adjacent_ resolution elements. In other words, the resolution element that is completely traversed by the wave will never \"realize\" that something happened! So when we will try to perform another step forward in the simulation, this element will have the wrong value, compromising the results of its neighbors. The step afterward, the pollution will propagate to the neighbors of its neighbors, and so on... Therefore, we must choose a value of $r \\leq 1$.\n",
        "\n",
        "## Exercise: change $\\Delta t$, $\\Delta x$ and $c$ to make $r>1$ and check the results"
      ]
    },
    {
      "cell_type": "code",
      "execution_count": null,
      "metadata": {
        "id": "Fp45IPIgFOLz"
      },
      "outputs": [],
      "source": [
        "# Define the system\n",
        "L = 20.0            # spatial length\n",
        "T = 50              # total simulation length\n",
        "c = 0.4             # wave speed\n",
        "\n",
        "#discretization\n",
        "nx = 1000            # number of spatial points\n",
        "nt = 1000             # number of time steps\n",
        "\n",
        "# compute spatial and time steps\n",
        "dx = L / (nx - 1)  # spatial step\n",
        "dt = T / (nt - 1)  # time step\n",
        "r = c * dt / dx\n",
        "\n",
        "print(f\"r = {r}\")\n",
        "\n",
        "#create spatial grids\n",
        "old_step     = np.zeros(nx)\n",
        "current_step = np.zeros(nx)\n",
        "new_step     = np.zeros(nx)\n",
        "\n",
        "\n",
        "\n",
        "current_step = make_initial_conditions(5     , 1, 1)\n",
        "# For a traveling wave, in the step before the wave was at the current position minus c*dt.\n",
        "old_step     = make_initial_conditions(5-c*dt, 1, 1)\n",
        "\n",
        "\n",
        "\n",
        "fig, ax = plt.subplots(1,1, figsize=(10,7))\n",
        "\n",
        "ax.plot(current_step, 'k--', lw=4)\n",
        "\n",
        "for iteration_number in trange(nt):\n",
        "    print(f\"iteration {iteration_number}\", end='\\r')\n",
        "    advance_one_step()\n",
        "\n",
        "    if iteration_number%50==0:\n",
        "        ax.plot(current_step, color=plt.cm.viridis(iteration_number/nt))\n",
        "\n",
        "    #now update step variables\n",
        "    old_step = current_step.copy()\n",
        "    current_step = new_step.copy()\n",
        "\n",
        "plt.show()"
      ]
    },
    {
      "cell_type": "markdown",
      "metadata": {
        "id": "Mdu33KnMFOLz"
      },
      "source": [
        "The lesson to be learned here is very profound. In fact, this reasoning applies to **all** system in which there is transmission of information. For example, if we are simulating how sound propagates in the air, we still have to satisfy the condition $r\\leq1$, now using the speed of sound as $c$. This is a fundamental principle used in virtually all simulations of gas dynamics, from the internal working of a fridge to the evolution of the Universe. If you have multiple types of waves traveling in the system simulated (for instance sound waves and gravity waves), $c$ has to be the *largest* among the wave speeds.\n",
        "\n",
        "In practice, what usually happens is that the spatial resolution $\\Delta x$ is set by other constraints (for example, the size of the processes to simulate, or the memory available in the computer). Then, a value of $r$ is chosen and the time step is computed as\n",
        "\n",
        "$$\n",
        "\\Delta t \\leq r \\frac{\\Delta x}{c}\n",
        "$$\n",
        "\n",
        "This is called **Courant–Friedrichs–Lewy (CFL) condition** and it is a necessary criterion for the stability of numerical schemes solving hyperbolic partial differential equations. The constant r is often called the _Courant factor_.\n",
        "\n",
        "The CFL condition is _necessary but not sufficient_ for the algorithm to be stable. In the wave equation example above, $r = 1$ works, but in many practical situations, we actually need $r \\lesssim 0.3$ to have meaningful results."
      ]
    },
    {
      "cell_type": "markdown",
      "metadata": {
        "id": "J4sfTwVTFOLz"
      },
      "source": [
        "# Profiling and optimization of the code\n",
        "Our implementation is relatively straightforward. This help the readability of the code and the clarity of thoughts, but also means the code is not optimized. Here we will briefly look at possible optimization of our simple code, but  before actually implementing any of these, it is important to check *which* part of the code is actually slow. We do not want to spend time optimizing a section that is already fast compared to the rest, because we would not gain much from all the work. The process of measuring the time of each code part and identifying the bottlenecks is called **code profiling**.\n",
        "\n",
        "![isitworthit](https://imgs.xkcd.com/comics/is_it_worth_the_time.png)\n",
        "\n",
        "Possible optimizations for our code are:\n",
        "* avoid copying `current_step` into `old step` and `new_step` into `current_step`. Copying large chunks of memory can be very (time) expensive. Instead we could have three arrays and change their role based on the iteration number, so that we never copy memory. For example we could do the following:\n",
        "> ```python\n",
        ">\n",
        "> array0 = np.zeros((nx, nx))\n",
        "> array1 = np.zeros((nx, nx))\n",
        "> array2 = np.zeros((nx, nx))\n",
        ">\n",
        "> if iteration_number % 3 == 0:\n",
        ">     new_step = array0\n",
        ">     old_step = array1\n",
        ">     current_step = array2\n",
        "> elif iteration_number % 3 == 1:\n",
        ">     new_step = array1\n",
        ">     old_step = array2\n",
        ">     current_step = array0\n",
        "> elif iteration_number % 3 == 2:\n",
        ">     new_step = array2\n",
        ">     old_step = array0\n",
        ">     current_step = array1\n",
        "> ```\n",
        "* Symmetries of the system. If the system considered is symmetric with respect to some axis, we can compute the solution only on one side of the symmetry axis, and then extend the solution using the symmetries.\n",
        "* avoid expensive operations. Some operations, like root finding, are way more expensive than others, like raising to power. Therefore, when possible, is better to re-work arithmetical operations to avoid the expensive part. For instance, selecting points in a sphere can be done comparing the point distance $d$ to the sphere radius $r$, or the squared distance to the squared radius. The latter is more efficient because computing $d^2 = (point-center)^2 < r^2$ does not involve square roots, while computing $d = \\sqrt{(point-center)^2} < r$ does.\n",
        "* language-specific optimizations. Many optimization depends on the programming language used. For example, in python, using `numpy` operations is much more efficient than explicitly looping over arrays, since the former are vectorized."
      ]
    },
    {
      "cell_type": "markdown",
      "metadata": {
        "id": "KCdwRY62FOL0"
      },
      "source": [
        "# Case 3: 2D waves\n",
        "\n",
        "Equation:\n",
        "\n",
        "$$ \\frac{\\partial^2 u}{\\partial t^2} = c^2 \\left( \\frac{\\partial^2 u}{\\partial x^2} + \\frac{\\partial^2 u}{\\partial y^2} \\right)$$\n",
        "\n",
        "Apply finite differences:\n",
        "\n",
        "$$ ??? $$\n",
        "\n",
        "Find update rule:\n",
        "\n",
        "$$ ??? $$\n"
      ]
    },
    {
      "cell_type": "code",
      "execution_count": null,
      "metadata": {
        "id": "36JPHUnfFOL0"
      },
      "outputs": [],
      "source": [
        "# Define the system\n",
        "L = 20.0            # spatial length\n",
        "T = 50              # total simulation length\n",
        "c = 0.2               # wave speed\n",
        "r = 0.3             # Courant factor\n",
        "\n",
        "#discretization\n",
        "nx = 1000            # number of spatial points\n",
        "#nt = 1000             # number of time steps\n",
        "\n",
        "# compute spatial and time steps\n",
        "dx = L / (nx - 1)  # spatial step\n",
        "#dt = T / (nt - 1)  # time step\n",
        "dt = r * dx / c  # time step based on Courant condition\n",
        "nt = int(T / dt)  # number of time steps\n",
        "print(f\"Performing {nt} time steps\")\n",
        "\n",
        "#need this for plotting and creating the initial conditions\n",
        "x = np.linspace(0,L,nx)\n",
        "y = np.linspace(0,L,nx)\n",
        "X, Y = np.meshgrid(x, y)\n",
        "\n",
        "\n",
        "def advance_one_step_2d():\n",
        "    #your code here:\n",
        "    #1. update rule\n",
        "\n",
        "    #2. boundary conditions:\n",
        "\n",
        "\n",
        "\n",
        "def make_initial_conditions_2d(center, amplitude, sigma):\n",
        "    #2D Gaussian\n",
        "    #initial_step = amplitude * np.exp(-((X-center[0])**2 + (Y-center[1])**2)/sigma**2)\n",
        "    # Gaussian wave\n",
        "    initial_step = amplitude * np.exp(-((X-center[0])**2)/sigma**2)\n",
        "\n",
        "    return initial_step\n",
        "\n",
        "\n",
        "#create spatial grids\n",
        "current_step = make_initial_conditions_2d((5,5), 1, 1)\n",
        "# For a traveling wave, in the step before the wave was at the current position minus c*dt.\n",
        "old_step     = make_initial_conditions_2d((5-c*dt,5), 1, 1)\n",
        "new_step     = np.zeros((nx, nx))\n",
        "\n",
        "\n",
        "# # Visualization\n",
        "plt.figure(figsize=(6, 5))\n",
        "plt.contourf(X, Y, current_step, levels=50, cmap='viridis')\n",
        "plt.title(\"Initial conditions\")\n",
        "plt.show()\n",
        "plt.close()\n",
        "\n",
        "for iteration_number in trange(nt, desc='solving 2D wave equation. timestep:'):\n",
        "    print(f\"iteration {iteration_number}\", end='\\r')\n",
        "    advance_one_step_2d()\n",
        "\n",
        "    #now update step variables\n",
        "    old_step = current_step.copy()\n",
        "    current_step = new_step.copy()\n",
        "\n",
        "\n",
        "plt.figure(figsize=(6, 5))\n",
        "plt.contourf(X, Y, current_step, levels=50, cmap='viridis')\n",
        "plt.colorbar(label='u(x, y, t)')\n",
        "plt.title(f\"T = {T}\")\n",
        "plt.xlabel(\"x\")\n",
        "plt.ylabel(\"y\")\n",
        "plt.show()"
      ]
    },
    {
      "cell_type": "code",
      "execution_count": null,
      "metadata": {
        "id": "tqxbKRLsFOL0"
      },
      "outputs": [],
      "source": [
        "from mpl_toolkits.mplot3d import axes3d\n",
        "\n",
        "# Plot\n",
        "fig = plt.figure(figsize = (7,7))\n",
        "\n",
        "ax = plt.axes(projection='3d')\n",
        "\n",
        "z = ax.plot_surface(X, Y, current_step, cmap='viridis', linewidth=0, antialiased=False)\n",
        "\n",
        "# Customised labels for axes\n",
        "ax.set_xlabel('x')\n",
        "ax.set_ylabel('y')\n",
        "ax.set_zlabel('u(x, y, t)')\n",
        "\n",
        "\n",
        "plt.show()"
      ]
    },
    {
      "cell_type": "markdown",
      "metadata": {
        "id": "-50Nk5uRFOL0"
      },
      "source": [
        "## Raindrops\n",
        "We can use this to simulate raindrops on a pond."
      ]
    },
    {
      "cell_type": "code",
      "execution_count": null,
      "metadata": {
        "id": "DjuxeEG-FOL0"
      },
      "outputs": [],
      "source": [
        "def add_drop(center):\n",
        "    drop = np.exp(-((X-center[0])**2 + (Y-center[1])**2)/(0.01**2))\n",
        "\n",
        "    return drop"
      ]
    },
    {
      "cell_type": "code",
      "execution_count": null,
      "metadata": {
        "id": "gy5xOde-MI1L"
      },
      "outputs": [],
      "source": [
        "!pip install cmasher"
      ]
    },
    {
      "cell_type": "code",
      "execution_count": null,
      "metadata": {
        "id": "PsJps5bi8L0-"
      },
      "outputs": [],
      "source": [
        "import cmasher as cmr\n",
        "import pygame as pg\n",
        "import numpy as np\n",
        "import matplotlib.pyplot as plt\n",
        "from tqdm.notebook import trange\n",
        "\n",
        "# Define the system\n",
        "L = 20.0            # spatial length\n",
        "T = 50              # total simulation length\n",
        "c = 0.2               # wave speed\n",
        "r = 0.3             # Courant factor\n",
        "\n",
        "#discretization\n",
        "nx = 1000            # number of spatial points\n",
        "#nt = 1000             # number of time steps\n",
        "\n",
        "# compute spatial and time steps\n",
        "dx = L / (nx - 1)  # spatial step\n",
        "#dt = T / (nt - 1)  # time step\n",
        "dt = r * dx / c  # time step based on Courant condition\n",
        "nt = int(T / dt)  # number of time steps\n",
        "print(f\"Performing {nt} time steps\")\n",
        "\n",
        "drop_probability = 0.03\n",
        "\n",
        "\n",
        "#need this for plotting and creating the initial conditions\n",
        "x = np.linspace(0,L,nx)\n",
        "y = np.linspace(0,L,nx)\n",
        "X, Y = np.meshgrid(x, y)\n",
        "\n",
        "\n",
        "def advance_one_step_2d():\n",
        "\n",
        "    new_step[1:-1, 1:-1] = 2 * (1-2*r**2) * current_step[1:-1, 1:-1] \\\n",
        "                + (r**2) * ( current_step[0:-2, 1:-1] + current_step[2:, 1:-1] + current_step[1:-1, 0:-2] + current_step[1:-1, 2:] ) \\\n",
        "                - old_step[1:-1, 1:-1]\n",
        "\n",
        "    #boundary conditions:\n",
        "    new_step[0, :] = new_step[1, :]\n",
        "    new_step[-1, :] = new_step[-2, :]\n",
        "    new_step[:, 0] = new_step[:, 1]\n",
        "    new_step[:, -1] = new_step[:, -2]\n",
        "\n",
        "\n",
        "#Initial conditions, we start with a quiet pond\n",
        "old_step     = np.zeros((nx, nx))\n",
        "current_step = np.zeros((nx, nx))\n",
        "new_step     = np.zeros((nx, nx))\n",
        "\n",
        "# Visualization\n",
        "plt.figure(figsize=(6, 5))\n",
        "plt.imshow(current_step.T, origin='lower', extent=(0, L, 0, L), aspect='auto', cmap='cmr.ocean', vmin=0, vmax=0.05)\n",
        "plt.title(\"Initial conditions\")\n",
        "plt.show()\n",
        "plt.close()\n",
        "\n",
        "\n",
        "for iteration_number in trange(nt):\n",
        "\n",
        "    #randomly decide if a drop is added\n",
        "    if np.random.rand() < drop_probability:\n",
        "        center = (np.random.rand() * 20, np.random.rand() * 20)\n",
        "        current_step += add_drop(center)\n",
        "        print(f\"Added a drop at {center[0], center[1]} in iteration {iteration_number}\")\n",
        "\n",
        "    print(f\"iteration {iteration_number}/{nt}\", end='\\r')\n",
        "    advance_one_step_2d()\n",
        "\n",
        "    #now update step variables\n",
        "    old_step = current_step.copy()\n",
        "    current_step = new_step.copy()\n",
        "\n",
        "    #visualization\n",
        "    if iteration_number%100 == 0:\n",
        "        plt.figure(figsize=(6, 5))\n",
        "        plt.imshow(current_step.T, origin='lower', extent=(0, L, 0, L), aspect='auto', cmap='cmr.ocean', vmin=0, vmax=0.05)\n",
        "        plt.title(f\"T = {iteration_number*dt:.2f}\")\n",
        "        plt.show()\n",
        "        plt.close()\n",
        "\n",
        "# Visualization\n",
        "plt.figure(figsize=(6, 5))\n",
        "#plt.contourf(X, Y, current_step, levels=50, cmap='viridis')\n",
        "plt.imshow(current_step.T, origin='lower', extent=(0, L, 0, L), aspect='auto', cmap='cmr.ocean', vmin=0, vmax=0.05)\n",
        "plt.colorbar(label='u(x, y, t)')\n",
        "plt.title(f\"T = {iteration_number*dt:.2f}\")\n",
        "plt.xlabel(\"x\")\n",
        "plt.ylabel(\"y\")\n",
        "plt.show()"
      ]
    },
    {
      "cell_type": "markdown",
      "metadata": {
        "id": "BF08O2T08L0-"
      },
      "source": [
        "### Real-time visualization\n",
        "Google colab does not support real-time visualization. If you want to try it, copy-paste the code below in a file on your computer, (install the necessary packages) and run it."
      ]
    },
    {
      "cell_type": "code",
      "execution_count": null,
      "metadata": {
        "id": "vekt_0kMFOL0"
      },
      "outputs": [],
      "source": [
        "import cmasher as cmr\n",
        "import pygame as pg\n",
        "import numpy as np\n",
        "import matplotlib.pyplot as plt\n",
        "from tqdm.notebook import trange\n",
        "\n",
        "# Define the system\n",
        "L = 20.0            # spatial length\n",
        "T = 50              # total simulation length\n",
        "c = 0.2               # wave speed\n",
        "r = 0.3             # Courant factor\n",
        "\n",
        "#discretization\n",
        "nx = 1000            # number of spatial points\n",
        "#nt = 1000             # number of time steps\n",
        "\n",
        "# compute spatial and time steps\n",
        "dx = L / (nx - 1)  # spatial step\n",
        "#dt = T / (nt - 1)  # time step\n",
        "dt = r * dx / c  # time step based on Courant condition\n",
        "nt = int(T / dt)  # number of time steps\n",
        "print(f\"Performing {nt} time steps\")\n",
        "\n",
        "drop_probability = 0.03\n",
        "\n",
        "\n",
        "#need this for plotting and creating the initial conditions\n",
        "x = np.linspace(0,L,nx)\n",
        "y = np.linspace(0,L,nx)\n",
        "X, Y = np.meshgrid(x, y)\n",
        "\n",
        "\n",
        "def advance_one_step_2d():\n",
        "\n",
        "    new_step[1:-1, 1:-1] = 2 * (1-2*r**2) * current_step[1:-1, 1:-1] \\\n",
        "                + (r**2) * ( current_step[0:-2, 1:-1] + current_step[2:, 1:-1] + current_step[1:-1, 0:-2] + current_step[1:-1, 2:] ) \\\n",
        "                - old_step[1:-1, 1:-1]\n",
        "\n",
        "    #boundary conditions:\n",
        "    new_step[0, :] = new_step[1, :]\n",
        "    new_step[-1, :] = new_step[-2, :]\n",
        "    new_step[:, 0] = new_step[:, 1]\n",
        "    new_step[:, -1] = new_step[:, -2]\n",
        "\n",
        "\n",
        "#Initial conditions, we start with a quiet pond\n",
        "old_step     = np.zeros((nx, nx))\n",
        "current_step = np.zeros((nx, nx))\n",
        "new_step     = np.zeros((nx, nx))\n",
        "\n",
        "# Visualization\n",
        "pg.init()\n",
        "display = pg.display.set_mode((nx, nx))\n",
        "pixeldata = np.zeros((nx, nx), dtype=np.uint8 )\n",
        "\n",
        "def step_to_cmap(step, vmin=0, vmax=1, cmap='viridis'):\n",
        "    normed = np.clip(current_step, vmin, vmax)\n",
        "    normed = (normed - vmin) / (vmax - vmin)\n",
        "    cmap = plt.get_cmap(cmap)\n",
        "    rgb_array = (cmap(normed)[..., :3] * 255).astype(np.uint8)\n",
        "    return rgb_array\n",
        "\n",
        "\n",
        "for iteration_number in trange(nt):\n",
        "\n",
        "    #randomly decide if a drop is added\n",
        "    if np.random.rand() < drop_probability:\n",
        "        center = (np.random.rand() * 20, np.random.rand() * 20)\n",
        "        current_step += add_drop(center)\n",
        "        print(f\"Added a drop at {center[0], center[1]} in iteration {iteration_number}\")\n",
        "\n",
        "    print(f\"iteration {iteration_number}/{nt}\", end='\\r')\n",
        "    advance_one_step_2d()\n",
        "\n",
        "    #now update step variables\n",
        "    old_step = current_step.copy()\n",
        "    current_step = new_step.copy()\n",
        "\n",
        "    #visualization\n",
        "    rgb_array = step_to_cmap(current_step, vmin=0, vmax=0.05, cmap='cmr.ocean')\n",
        "    surf = pg.surfarray.make_surface(rgb_array[:,::-1])\n",
        "    display.blit(pg.transform.scale(surf, (nx, nx)), (0, 0))\n",
        "    pg.display.update()\n",
        "\n",
        "pg.quit()\n",
        "# Visualization\n",
        "plt.figure(figsize=(6, 5))\n",
        "#plt.contourf(X, Y, current_step, levels=50, cmap='viridis')\n",
        "plt.imshow(current_step.T, origin='lower', extent=(0, L, 0, L), aspect='auto', cmap='cmr.ocean', vmin=0, vmax=0.05)\n",
        "plt.colorbar(label='u(x, y, t)')\n",
        "plt.title(\"2D Linear Wave Propagation\")\n",
        "plt.xlabel(\"x\")\n",
        "plt.ylabel(\"y\")\n",
        "plt.show()"
      ]
    },
    {
      "cell_type": "markdown",
      "metadata": {
        "id": "2tSdCzmFFOL1"
      },
      "source": [
        "# Exercise: 2D waves with damping\n",
        "\n",
        "Equation:\n",
        "\n",
        "$$ \\frac{\\partial^2 u}{\\partial t^2} = c^2 \\left( \\frac{\\partial^2 u}{\\partial x^2} + \\frac{\\partial^2 u}{\\partial y^2} \\right) - 2k\\frac{\\partial u}{\\partial t}$$\n",
        "\n",
        "where $k$ is a coefficient that represents how _viscous_ the fluid is, i.e. how much it dampens the waves propagating.\n",
        "\n",
        "Apply finite differences:\n",
        "\n",
        "$$\n",
        "\\frac{u_{i,j}^{n+1} + u_{i,j}^{n-1} - 2 u_{i,j}^n}{\\Delta t^2} = c^2 \\frac{u_{i+1, j}^n + u_{i-1, j}^n + u_{i, j+1}^n + u_{i, j-1}^n - 4 u_{i, j}^n}{\\Delta x^2} -2 k \\frac{u_{i,j}^{n+1} - u_{i,j}^{n-1}}{2\\Delta t^2}\n",
        "$$\n",
        "\n",
        "Find update rule:\n",
        "\n",
        "$$u_{i,j}^{n+1} = 2 \\frac{1 - 2 r^2}{1+2k\\Delta t} u_{i,j}^{n} + \\frac{r^2}{1+2k\\Delta t} \\left( u_{i+1, j}^n + u_{i-1, j}^n + u_{i, j+1}^n + u_{i, j-1}^n \\right) - \\frac{1-2k\\Delta t}{1+2k\\Delta t}u_{i,j}^{n-1}$$\n",
        "\n",
        "## ...and boats!\n",
        "If we want to simulate a boat in the middle of the pond, we can simply apply a new boundary condition in a rectangle (the best boat shape) somewhere in the pond. We will treat the boat edge in the same way we do for the simulation box boundaries.\n",
        "\n",
        "**For you**: modify the code above to include damping and boats!\n",
        "\n",
        "## Extra challenge: can you make the boats move?\n"
      ]
    }
  ],
  "metadata": {
    "colab": {
      "provenance": [],
      "include_colab_link": true
    },
    "kernelspec": {
      "display_name": "base",
      "language": "python",
      "name": "python3"
    },
    "language_info": {
      "codemirror_mode": {
        "name": "ipython",
        "version": 3
      },
      "file_extension": ".py",
      "mimetype": "text/x-python",
      "name": "python",
      "nbconvert_exporter": "python",
      "pygments_lexer": "ipython3",
      "version": "3.13.2"
    },
    "toc": {
      "base_numbering": 1,
      "nav_menu": {},
      "number_sections": true,
      "sideBar": true,
      "skip_h1_title": false,
      "title_cell": "Table of Contents",
      "title_sidebar": "Contents",
      "toc_cell": false,
      "toc_position": {
        "height": "calc(100% - 180px)",
        "left": "10px",
        "top": "150px",
        "width": "165px"
      },
      "toc_section_display": true,
      "toc_window_display": true
    },
    "varInspector": {
      "cols": {
        "lenName": 16,
        "lenType": 16,
        "lenVar": 40
      },
      "kernels_config": {
        "python": {
          "delete_cmd_postfix": "",
          "delete_cmd_prefix": "del ",
          "library": "var_list.py",
          "varRefreshCmd": "print(var_dic_list())"
        },
        "r": {
          "delete_cmd_postfix": ") ",
          "delete_cmd_prefix": "rm(",
          "library": "var_list.r",
          "varRefreshCmd": "cat(var_dic_list()) "
        }
      },
      "types_to_exclude": [
        "module",
        "function",
        "builtin_function_or_method",
        "instance",
        "_Feature"
      ],
      "window_display": false
    }
  },
  "nbformat": 4,
  "nbformat_minor": 0
}